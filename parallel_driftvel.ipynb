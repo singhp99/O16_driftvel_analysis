{
 "cells": [
  {
   "cell_type": "code",
   "execution_count": 1,
   "id": "b63e3f36",
   "metadata": {},
   "outputs": [],
   "source": [
    "from spyral.core.run_stacks import form_run_string\n",
    "from pathlib import Path\n",
    "import h5py as h5\n",
    "\n",
    "from event_processing import process_event\n",
    "from parallel_utils import parallelize\n",
    "from helper import event_range\n",
    "import numpy as np\n",
    "import pandas as pd"
   ]
  },
  {
   "cell_type": "code",
   "execution_count": null,
   "id": "d231fc30",
   "metadata": {},
   "outputs": [],
   "source": [
    "def main():\n",
    "    trace_path = Path(\"/Volumes/researchEXT/O16/O16_runs\")\n",
    "    results = []\n",
    "    run_num_ls = [169,105]\n",
    "    for run_number in run_num_ls:\n",
    "        trace_file_path = trace_path / f\"{form_run_string(run_number)}.h5\"\n",
    "\n",
    "        with h5.File(trace_file_path, \"r\") as trace_file:\n",
    "            min_event, max_event = event_range(trace_file)\n",
    "        \n",
    "        print(f\"Total number of events in run {run_number}: {len(range(min_event,max_event))}\")\n",
    "\n",
    "        valid_events = parallelize(results,run_number,min_event, max_event, trace_file_path)\n",
    "\n",
    "        print(f\"Processed valid events: {len(valid_events)}\")\n",
    "        print(f\"Percentage of data lost for run {run_number}: {1-(len(valid_events)/(len(range(min_event,max_event))))}\")\n",
    "\n",
    "    return valid_events"
   ]
  },
  {
   "cell_type": "code",
   "execution_count": null,
   "id": "09841bae",
   "metadata": {},
   "outputs": [
    {
     "name": "stdout",
     "output_type": "stream",
     "text": [
      "Total number of events in run 169: 47262\n"
     ]
    },
    {
     "data": {
      "application/vnd.jupyter.widget-view+json": {
       "model_id": "111ffc2cc3594b908da9d7b84ed77b99",
       "version_major": 2,
       "version_minor": 0
      },
      "text/plain": [
       "Processing Events:   0%|          | 0/100 [00:00<?, ?it/s]"
      ]
     },
     "metadata": {},
     "output_type": "display_data"
    },
    {
     "name": "stdout",
     "output_type": "stream",
     "text": [
      "Processed valid events: 26\n",
      "Percentage of data lost for run 169: 0.9994498751639795\n",
      "Total number of events in run 105: 5525\n"
     ]
    },
    {
     "data": {
      "application/vnd.jupyter.widget-view+json": {
       "model_id": "668cfff441f24b59b2625fe04b2ef930",
       "version_major": 2,
       "version_minor": 0
      },
      "text/plain": [
       "Processing Events:   0%|          | 0/100 [00:00<?, ?it/s]"
      ]
     },
     "metadata": {},
     "output_type": "display_data"
    },
    {
     "name": "stdout",
     "output_type": "stream",
     "text": [
      "Processed valid events: 41\n",
      "Percentage of data lost for run 105: 0.992579185520362\n",
      "[{'run_number': 169, 'event_number': 4822259, 'drift_velocity_tb': 370.3477689545921, 'micromegas_tb': 102.89625423516979, 'window_tb': 473.2440231897619}, {'run_number': 169, 'event_number': 4822260, 'drift_velocity_tb': 368.70171758883276, 'micromegas_tb': 85.22940912305627, 'window_tb': 453.931126711889}, {'run_number': 169, 'event_number': 4822265, 'drift_velocity_tb': 369.19023615812745, 'micromegas_tb': 102.8436999146901, 'window_tb': 472.03393607281754}, {'run_number': 169, 'event_number': 4822271, 'drift_velocity_tb': 364.5853149962748, 'micromegas_tb': 65.20319549344356, 'window_tb': 429.78851048971836}, {'run_number': 169, 'event_number': 4822270, 'drift_velocity_tb': 368.15002152954355, 'micromegas_tb': 91.98984315107987, 'window_tb': 460.1398646806234}, {'run_number': 169, 'event_number': 4822274, 'drift_velocity_tb': 370.87905413746427, 'micromegas_tb': 96.16348898374115, 'window_tb': 467.0425431212054}, {'run_number': 169, 'event_number': 4822278, 'drift_velocity_tb': 365.0553059834425, 'micromegas_tb': 96.2774432553113, 'window_tb': 461.3327492387538}, {'run_number': 169, 'event_number': 4822291, 'drift_velocity_tb': 365.82431512041654, 'micromegas_tb': 93.46086544343842, 'window_tb': 459.28518056385496}, {'run_number': 169, 'event_number': 4822295, 'drift_velocity_tb': 369.30518567227756, 'micromegas_tb': 141.2409279542448, 'window_tb': 510.54611362652236}, {'run_number': 169, 'event_number': 4822293, 'drift_velocity_tb': 364.14302031926997, 'micromegas_tb': 94.26772763527042, 'window_tb': 458.4107479545404}, {'run_number': 169, 'event_number': 4822297, 'drift_velocity_tb': 365.13485254721195, 'micromegas_tb': 80.18167888647545, 'window_tb': 445.31653143368743}, {'run_number': 169, 'event_number': 4822299, 'drift_velocity_tb': 372.3568271049468, 'micromegas_tb': 93.55527900022852, 'window_tb': 465.91210610517527}, {'run_number': 169, 'event_number': 4822298, 'drift_velocity_tb': 365.5763566938532, 'micromegas_tb': 90.25735749722517, 'window_tb': 455.83371419107834}, {'run_number': 169, 'event_number': 4822300, 'drift_velocity_tb': 377.56620554288963, 'micromegas_tb': 86.8619851824661, 'window_tb': 464.42819072535576}, {'run_number': 169, 'event_number': 4822292, 'drift_velocity_tb': 385.8520451228693, 'micromegas_tb': 71.09348085972088, 'window_tb': 456.9455259825902}, {'run_number': 169, 'event_number': 4822308, 'drift_velocity_tb': 372.72682419644156, 'micromegas_tb': 93.27221144654607, 'window_tb': 465.9990356429876}, {'run_number': 169, 'event_number': 4822305, 'drift_velocity_tb': 362.54317812806164, 'micromegas_tb': 87.29155433603353, 'window_tb': 449.83473246409517}, {'run_number': 169, 'event_number': 4822314, 'drift_velocity_tb': 368.9097676910678, 'micromegas_tb': 124.38278419645536, 'window_tb': 493.2925518875232}, {'run_number': 169, 'event_number': 4822321, 'drift_velocity_tb': 368.25802933912246, 'micromegas_tb': 99.60362939520886, 'window_tb': 467.86165873433134}, {'run_number': 169, 'event_number': 4822318, 'drift_velocity_tb': 374.76476302710495, 'micromegas_tb': 101.11877278197461, 'window_tb': 475.88353580907955}, {'run_number': 169, 'event_number': 4822324, 'drift_velocity_tb': 374.12547917617445, 'micromegas_tb': 106.57611829753172, 'window_tb': 480.70159747370616}, {'run_number': 169, 'event_number': 4822348, 'drift_velocity_tb': 375.65438185927235, 'micromegas_tb': 84.01967438431555, 'window_tb': 459.67405624358787}, {'run_number': 169, 'event_number': 4822346, 'drift_velocity_tb': 366.702733395993, 'micromegas_tb': 93.02156626537084, 'window_tb': 459.72429966136383}, {'run_number': 169, 'event_number': 4822353, 'drift_velocity_tb': 394.5055650576183, 'micromegas_tb': 86.37160883596569, 'window_tb': 480.877173893584}, {'run_number': 169, 'event_number': 4822354, 'drift_velocity_tb': 368.97534919174365, 'micromegas_tb': 87.01554138226987, 'window_tb': 455.9908905740135}, {'run_number': 169, 'event_number': 4822356, 'drift_velocity_tb': 367.7100573106084, 'micromegas_tb': 76.01638931740062, 'window_tb': 443.72644662800906}, {'run_number': 105, 'event_number': 1992845, 'drift_velocity_tb': 388.32578829340616, 'micromegas_tb': 70.80255580035663, 'window_tb': 459.1283440937628}, {'run_number': 105, 'event_number': 1992859, 'drift_velocity_tb': 380.75312330332315, 'micromegas_tb': 78.23145530722732, 'window_tb': 458.98457861055044}, {'run_number': 105, 'event_number': 1992869, 'drift_velocity_tb': 364.0818727101963, 'micromegas_tb': 109.02209243667156, 'window_tb': 473.1039651468679}, {'run_number': 105, 'event_number': 1992870, 'drift_velocity_tb': 392.5881623173687, 'micromegas_tb': 64.43085682007136, 'window_tb': 457.01901913744007}, {'run_number': 105, 'event_number': 1992876, 'drift_velocity_tb': 391.0989335690168, 'micromegas_tb': 89.51870590010046, 'window_tb': 480.61763946911725}, {'run_number': 105, 'event_number': 1992877, 'drift_velocity_tb': 377.82029947254574, 'micromegas_tb': 97.93647010935426, 'window_tb': 475.7567695819}, {'run_number': 105, 'event_number': 1992888, 'drift_velocity_tb': 385.77573997374367, 'micromegas_tb': 101.53948630425192, 'window_tb': 487.3152262779956}, {'run_number': 105, 'event_number': 1992887, 'drift_velocity_tb': 354.74845845499004, 'micromegas_tb': 124.75091405243114, 'window_tb': 479.4993725074212}, {'run_number': 105, 'event_number': 1992899, 'drift_velocity_tb': 382.89344299999163, 'micromegas_tb': 91.43769003504534, 'window_tb': 474.331133035037}, {'run_number': 105, 'event_number': 1992901, 'drift_velocity_tb': 382.56752834374925, 'micromegas_tb': 95.4016621150215, 'window_tb': 477.96919045877075}, {'run_number': 105, 'event_number': 1992920, 'drift_velocity_tb': 358.89646476211976, 'micromegas_tb': 100.77338538282254, 'window_tb': 459.6698501449423}, {'run_number': 105, 'event_number': 1992934, 'drift_velocity_tb': 382.7180743491674, 'micromegas_tb': 97.41483530235769, 'window_tb': 480.1329096515251}, {'run_number': 105, 'event_number': 1992924, 'drift_velocity_tb': 374.6731596161619, 'micromegas_tb': 86.41232075738725, 'window_tb': 461.08548037354916}, {'run_number': 105, 'event_number': 1992942, 'drift_velocity_tb': 385.74015936271724, 'micromegas_tb': 99.77794797499315, 'window_tb': 485.5181073377104}, {'run_number': 105, 'event_number': 1992940, 'drift_velocity_tb': 385.6780969359537, 'micromegas_tb': 124.49401006165525, 'window_tb': 510.172106997609}]\n",
      "    run_number  event_number  drift_velocity_tb  micromegas_tb   window_tb\n",
      "0          169       4822259         370.347769     102.896254  473.244023\n",
      "1          169       4822260         368.701718      85.229409  453.931127\n",
      "2          169       4822265         369.190236     102.843700  472.033936\n",
      "3          169       4822271         364.585315      65.203195  429.788510\n",
      "4          169       4822270         368.150022      91.989843  460.139865\n",
      "5          169       4822274         370.879054      96.163489  467.042543\n",
      "6          169       4822278         365.055306      96.277443  461.332749\n",
      "7          169       4822291         365.824315      93.460865  459.285181\n",
      "8          169       4822295         369.305186     141.240928  510.546114\n",
      "9          169       4822293         364.143020      94.267728  458.410748\n",
      "10         169       4822297         365.134853      80.181679  445.316531\n",
      "11         169       4822299         372.356827      93.555279  465.912106\n",
      "12         169       4822298         365.576357      90.257357  455.833714\n",
      "13         169       4822300         377.566206      86.861985  464.428191\n",
      "14         169       4822292         385.852045      71.093481  456.945526\n",
      "15         169       4822308         372.726824      93.272211  465.999036\n",
      "16         169       4822305         362.543178      87.291554  449.834732\n",
      "17         169       4822314         368.909768     124.382784  493.292552\n",
      "18         169       4822321         368.258029      99.603629  467.861659\n",
      "19         169       4822318         374.764763     101.118773  475.883536\n",
      "20         169       4822324         374.125479     106.576118  480.701597\n",
      "21         169       4822348         375.654382      84.019674  459.674056\n",
      "22         169       4822346         366.702733      93.021566  459.724300\n",
      "23         169       4822353         394.505565      86.371609  480.877174\n",
      "24         169       4822354         368.975349      87.015541  455.990891\n",
      "25         169       4822356         367.710057      76.016389  443.726447\n",
      "26         105       1992845         388.325788      70.802556  459.128344\n",
      "27         105       1992859         380.753123      78.231455  458.984579\n",
      "28         105       1992869         364.081873     109.022092  473.103965\n",
      "29         105       1992870         392.588162      64.430857  457.019019\n",
      "30         105       1992876         391.098934      89.518706  480.617639\n",
      "31         105       1992877         377.820299      97.936470  475.756770\n",
      "32         105       1992888         385.775740     101.539486  487.315226\n",
      "33         105       1992887         354.748458     124.750914  479.499373\n",
      "34         105       1992899         382.893443      91.437690  474.331133\n",
      "35         105       1992901         382.567528      95.401662  477.969190\n",
      "36         105       1992920         358.896465     100.773385  459.669850\n",
      "37         105       1992934         382.718074      97.414835  480.132910\n",
      "38         105       1992924         374.673160      86.412321  461.085480\n",
      "39         105       1992942         385.740159      99.777948  485.518107\n",
      "40         105       1992940         385.678097     124.494010  510.172107\n"
     ]
    }
   ],
   "source": [
    "if __name__ == \"__main__\":\n",
    "   valid_events = main()\n",
    "   print(valid_events)\n",
    "   df = pd.DataFrame(valid_events)\n",
    "   print(df)"
   ]
  },
  {
   "cell_type": "code",
   "execution_count": null,
   "id": "b353df6e",
   "metadata": {},
   "outputs": [],
   "source": []
  }
 ],
 "metadata": {
  "kernelspec": {
   "display_name": ".venv",
   "language": "python",
   "name": "python3"
  },
  "language_info": {
   "codemirror_mode": {
    "name": "ipython",
    "version": 3
   },
   "file_extension": ".py",
   "mimetype": "text/x-python",
   "name": "python",
   "nbconvert_exporter": "python",
   "pygments_lexer": "ipython3",
   "version": "3.12.0"
  }
 },
 "nbformat": 4,
 "nbformat_minor": 5
}
